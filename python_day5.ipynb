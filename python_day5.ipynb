{
  "cells": [
    {
      "metadata": {
        "trusted": true
      },
      "cell_type": "code",
      "source": "#functio to add two numbers\ndef add(a,b):\n    print(\"sum=\", a+b)\n    \n#function to substract two numbers\ndef sub(a,b):\n    print(\"difference=\", a-b)\n    \n#function to divide two numbers\ndef div(a,b):\n    print(\"division=\", a/b)\n    \n#function to multiply two numbers\ndef mul(a,b):\n    print(\"multiplication=\", a*b)\n    \n#main function\na=10\nb=5\nadd(a,b)\nsub(a,b)\ndiv(a,b)\nmul(a,b)",
      "execution_count": 1,
      "outputs": [
        {
          "name": "stdout",
          "output_type": "stream",
          "text": "sum= 15\ndifference= 5\ndivision= 2.0\nmultiplication= 50\n"
        }
      ]
    },
    {
      "metadata": {
        "trusted": true
      },
      "cell_type": "code",
      "source": "a= 5\nif (a>0):\n    a=a-1\n    print(\"a=\",a)\nelif (a<0):\n    a= a+1\n    print(\"a=\",a)\nelse:\n    print(\"a=\",a)",
      "execution_count": 2,
      "outputs": [
        {
          "name": "stdout",
          "output_type": "stream",
          "text": "a= 4\n"
        }
      ]
    },
    {
      "metadata": {
        "trusted": true
      },
      "cell_type": "code",
      "source": "a= -2\nif (a>0):\n    a=a-1\n    print(\"a=\",a)\nelif (a<0):\n    a= a+1\n    print(\"a=\",a)\nelse:\n    print(\"a=\",a)",
      "execution_count": 3,
      "outputs": [
        {
          "name": "stdout",
          "output_type": "stream",
          "text": "a= -1\n"
        }
      ]
    },
    {
      "metadata": {
        "trusted": true
      },
      "cell_type": "code",
      "source": "a= 0\nif (a>0):\n    a=a-1\n    print(\"a=\",a)\nelif (a<0):\n    a= a+1\n    print(\"a=\",a)\nelse:\n    print(\"a=\",a)",
      "execution_count": 4,
      "outputs": [
        {
          "name": "stdout",
          "output_type": "stream",
          "text": "a= 0\n"
        }
      ]
    },
    {
      "metadata": {
        "trusted": true
      },
      "cell_type": "code",
      "source": "for k in range(10):\n    while (k>3):\n        if (k==3):\n            continue\n            print(k)\n        else:\n            print(k)\n            break",
      "execution_count": 6,
      "outputs": [
        {
          "name": "stdout",
          "output_type": "stream",
          "text": "4\n5\n6\n7\n8\n9\n"
        }
      ]
    }
  ],
  "metadata": {
    "kernelspec": {
      "name": "python3",
      "display_name": "Python 3",
      "language": "python"
    },
    "language_info": {
      "name": "python",
      "version": "3.8.3",
      "mimetype": "text/x-python",
      "codemirror_mode": {
        "name": "ipython",
        "version": 3
      },
      "pygments_lexer": "ipython3",
      "nbconvert_exporter": "python",
      "file_extension": ".py"
    },
    "gist": {
      "id": "",
      "data": {
        "description": "python_day5.ipynb",
        "public": true
      }
    }
  },
  "nbformat": 4,
  "nbformat_minor": 4
}