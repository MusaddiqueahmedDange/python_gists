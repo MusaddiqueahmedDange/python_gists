{
  "cells": [
    {
      "metadata": {
        "trusted": true
      },
      "cell_type": "code",
      "source": "import tkinter as tk\nfrom PIL import ImageTk, Image\nimport os\nfrom bs4 import BeautifulSoup\nimport urllib.request\nscore_page = 'http://static.cricinfo.com/rss/livescores.xml'    \npage = urllib.request.urlopen(score_page)\nsoup = BeautifulSoup(page, 'html.parser')\nresult = soup.find_all('description') \n\nls=[]\nfor match in result:\n    ls.append(match.get_text())\n\ndef score():\n    T.insert(tk.END,ls)\ndef clear():\n    T.delete(1.0,tk.END)\nroot = tk.Toplevel()\nroot.geometry('1200x675')\nimg = ImageTk.PhotoImage(file =r\"C:\\Users\\DANGE\\Desktop\\rcb.jpg\")\npanel = tk.Label(root, image = img)\npanel.place(x=0,y=0)\nT=tk.Text(root)\nT.place(x=30,y=250,height=250,width=300)\nl=tk.Label(root,text=\"LIVE SCORE\",fg=\"white\",bg=\"black\")\nl.place(x=30,y=400,height=100,width=300)\nb1=tk.Button(root,text=\"Score\",bg=\"black\",fg=\"red\",command=score)\nb1.place(x=800,y=200,height=100,width=250)\nb2=tk.Button(root,text=\"Clear\",bg=\"black\",fg=\"red\",command=clear)\nb2.place(x=800,y=400,height=100,width=250)\nroot.mainloop()",
      "execution_count": 1,
      "outputs": []
    }
  ],
  "metadata": {
    "kernelspec": {
      "name": "python3",
      "display_name": "Python 3",
      "language": "python"
    },
    "language_info": {
      "name": "python",
      "version": "3.8.3",
      "mimetype": "text/x-python",
      "codemirror_mode": {
        "name": "ipython",
        "version": 3
      },
      "pygments_lexer": "ipython3",
      "nbconvert_exporter": "python",
      "file_extension": ".py"
    },
    "gist": {
      "id": "",
      "data": {
        "description": "Untitled8.ipynb",
        "public": true
      }
    }
  },
  "nbformat": 4,
  "nbformat_minor": 4
}